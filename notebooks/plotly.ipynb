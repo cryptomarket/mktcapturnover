{
 "cells": [
  {
   "cell_type": "code",
   "execution_count": null,
   "metadata": {
    "collapsed": false,
    "scrolled": false
   },
   "outputs": [],
   "source": [
    "import numpy as np\n",
    "import pandas as pd\n",
    "import plotly.graph_objs as go\n",
    "from plotly.offline import init_notebook_mode, iplot\n",
    "init_notebook_mode(connected=True)\n",
    "#filename = 'coinmktcap-ticker.json'\n",
    "url = 'https://api.coinmarketcap.com/v1/ticker/?limit=100'\n",
    "day_vol_threshold = 5000  # Only want trading vol >= $5K\n",
    "#df = pd.read_json('../data/{}'.format(filename))\n",
    "df = pd.read_json(url)\n",
    "df = df[df['24h_volume_usd'].ge(day_vol_threshold)]\n",
    "layout = go.Layout(\n",
    "    title='Cryptocurrency Daily Turnover Rate (@ Exchanges)',\n",
    "    xaxis=dict(\n",
    "        title='24H Turnover Ratio',\n",
    "        type='log',\n",
    "        ticksuffix='%',\n",
    "        dtick=0.5,\n",
    "    ),\n",
    "    yaxis=dict(\n",
    "        title='Market Cap',\n",
    "        type='log',\n",
    "    ),\n",
    "    hovermode = 'closest',\n",
    ")\n",
    "data = [\n",
    "    go.Scatter(\n",
    "        mode='markers',\n",
    "        hoverinfo='text',\n",
    "        x=(df['24h_volume_usd'] / df['market_cap_usd']) * 100,\n",
    "        y=df['market_cap_usd'],\n",
    "        text=df['name'],\n",
    "        marker=dict(\n",
    "            size=np.log(df['24h_volume_usd']),\n",
    "        ),\n",
    "    )]\n",
    "fig = go.Figure(data=data, layout=layout)\n",
    "iplot(fig)"
   ]
  }
 ],
 "metadata": {
  "kernelspec": {
   "display_name": "Python 3",
   "language": "python",
   "name": "python3"
  },
  "language_info": {
   "codemirror_mode": {
    "name": "ipython",
    "version": 3
   },
   "file_extension": ".py",
   "mimetype": "text/x-python",
   "name": "python",
   "nbconvert_exporter": "python",
   "pygments_lexer": "ipython3",
   "version": "3.5.2"
  }
 },
 "nbformat": 4,
 "nbformat_minor": 2
}
