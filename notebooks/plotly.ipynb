{
 "cells": [
  {
   "cell_type": "code",
   "execution_count": 2,
   "metadata": {
    "collapsed": false,
    "scrolled": true
   },
   "outputs": [
    {
     "data": {
      "text/html": [
       "<script>requirejs.config({paths: { 'plotly': ['https://cdn.plot.ly/plotly-latest.min']},});if(!window.Plotly) {{require(['plotly'],function(plotly) {window.Plotly=plotly;});}}</script>"
      ],
      "text/plain": [
       "<IPython.core.display.HTML object>"
      ]
     },
     "metadata": {},
     "output_type": "display_data"
    },
    {
     "data": {
      "text/html": [
       "<div id=\"f85ab157-d52e-4847-bcd1-388db5d3505a\" style=\"height: 525px; width: 100%;\" class=\"plotly-graph-div\"></div><script type=\"text/javascript\">require([\"plotly\"], function(Plotly) { window.PLOTLYENV=window.PLOTLYENV || {};window.PLOTLYENV.BASE_URL=\"https://plot.ly\";Plotly.newPlot(\"f85ab157-d52e-4847-bcd1-388db5d3505a\", [{\"hoverinfo\": \"text\", \"marker\": {\"size\": [15.615544036311233, 13.13320044370426, 10.35467463065274, 12.516292571721605, 12.696583310780756, 10.432134430209123, 11.828655490167167, 11.656540842882103, 9.139263186959026, 10.291443601109554, 9.72367883591315, 9.180324365232586, 9.890878390120958, 8.8557689284142, 8.512263058257307, 9.096816627646405, 11.38976977240539, 9.78999965455546, 6.67073590213228, 9.56758115579733, 8.101468634682929, 11.214306468475565, 10.823359862893966, 9.17687355337659, 8.175116881267174, 10.000119585580114, 8.383154241434841, 8.965901680121814, 7.608855748128156, 6.843838431232282, 9.103226097159144, 7.185121828906387, 11.021175079834407, 11.242847526466804, 10.282064389358581, 7.265821254987008, 7.3219686756480025, 8.496231012099386, 8.010694858076004, 7.005362817835145, 6.286867362768209, 9.68644410768259, 9.080860190673643, 8.59980490406118, 6.678625093479972, 9.044634015083448, 7.520061099697453, 13.240469916283457, 9.217306055176707, 8.365341866046228, 11.07633959038927, 7.609321916234831, 10.094942274711304, 6.3075245063484475, 8.972194851743625, 7.9575309023996565, 7.78921437161082, 7.052807550681276, 6.693978967764638, 9.478533767844102, 8.956943777490952, 10.215286462095289, 6.254449772585426, 6.660421488866709, 6.935156415330076, 9.808528311145714, 6.867359235398567, 6.481759348508108, 6.732979183461142, 9.431065000053083, 8.782470132995298, 8.573388252491993, 8.87298474528083, 6.515874978117905, 6.37949182957113, 7.598038361927432, 6.363639985268171]}, \"mode\": \"markers\", \"x\": [14849626728, 926082315, 236864718, 191016543, 175401384, 114826810, 109721767, 61837214, 47231800, 46083600, 38018862, 34668978, 29882964, 24296764, 23591200, 21989898, 21293113, 20668101, 19645860, 16045426, 15492678, 14951740, 13324600, 10730651, 10377008, 10288866, 10091764, 9011435, 8836483, 8640000, 8600178, 8580307, 8223734, 8043875, 7862817, 7647581, 7448618, 7356489, 6953486, 6933800, 6868480, 6480063, 6153852, 5485970, 5238151, 5124500, 5025452, 4536504, 4119461, 4070495, 3840930, 3201969, 3008989, 2983858, 2905820, 2501090, 2483167, 2185058, 1813632, 1762639, 1547870, 1518628, 1516281, 1510490, 1495560, 1490511, 1428462, 1364530, 1328260, 1321664, 1214464, 1193231, 1150838, 1145450, 1105406, 1047531, 1016552], \"type\": \"scatter\", \"y\": [0.4074075470592529, 0.5457916556801973, 0.13257989735727546, 1.4278606225221027, 1.8621859905050693, 0.2955119975901098, 1.249761134452018, 1.8669017009724922, 0.1971955335176724, 0.6396917775521009, 0.43948185508550996, 0.2799130681037093, 0.6608916036575221, 0.28871087524248085, 0.210901098714775, 0.405951405504473, 4.152168825666778, 0.863857787418399, 0.04015991155388464, 0.8908333128705963, 0.212959308907085, 4.9615763784014435, 3.7659216786995486, 0.9012379584425958, 0.3422441227760449, 2.1410619984748562, 0.433301848913629, 0.8690558163045065, 0.22814167129614804, 0.10857442129629631, 1.0446562850210774, 0.15379985821020156, 7.43646377667371, 9.489456263305932, 3.7142031920620813, 0.18706045741784233, 0.20314909423466204, 0.6655729383949327, 0.43330927825266347, 0.15900804753526204, 0.0782512288017145, 2.4842196750247645, 1.4276456437366385, 0.9899069808985467, 0.15181406568844616, 1.6534198458386182, 0.36706747970132836, 124.03427837824017, 2.4444702838550967, 1.0552967145273489, 16.8250658043755, 0.6298967916303999, 8.04928166902571, 0.1838844207733746, 2.712101919595846, 1.1423059546037928, 0.9723147899436487, 0.5290935069000456, 0.4452551565036347, 7.4184220365032205, 5.014374592181515, 17.988342108798207, 0.34315736990702905, 0.5169713139444816, 0.6872208403541148, 12.202660698243758, 0.6723378010755624, 0.47864026441338775, 0.6321390390435608, 9.434924458863977, 5.367767179595278, 4.432519771946923, 6.201176881541972, 0.58997337291021, 0.5334040162618984, 1.903790914063641, 0.5709053742454887], \"text\": [\"Bitcoin\", \"Ethereum\", \"Ripple\", \"Litecoin\", \"Monero\", \"Ethereum Classic\", \"Dash\", \"MaidSafeCoin\", \"Augur\", \"NEM\", \"Steem\", \"Iconomi\", \"Factom\", \"Golem\", \"Waves\", \"Dogecoin\", \"Zcash\", \"Ardor\", \"DigixDAO\", \"Lisk\", \"Stellar Lumens\", \"Tether\", \"GameCredits\", \"BitShares\", \"Bytecoin\", \"Stratis\", \"ShadowCash\", \"Bitcrystals\", \"Gulden\", \"SingularDTV\", \"Siacoin\", \"First Blood\", \"Counterparty\", \"E-Dinar Coin\", \"Decred\", \"Emercoin\", \"BitcoinDark\", \"Storjcoin X\", \"Peercoin\", \"AntShares\", \"Xaurum\", \"Nxt\", \"I/O Coin\", \"Byteball\", \"Rubycoin\", \"SysCoin\", \"Nexus\", \"Pascal Coin\", \"PotCoin\", \"Synereo\", \"Nexium\", \"Namecoin\", \"Swiscoin\", \"SIBCoin\", \"Creditbit\", \"BlackCoin\", \"NAV Coin\", \"DigiByte\", \"Clams\", \"ZCoin\", \"Expanse\", \"Boolberry\", \"Lykke\", \"BitBay\", \"CureCoin\", \"Vertcoin\", \"Omni\", \"Adzcoin\", \"Radium\", \"LBRY Credits\", \"Burst\", \"Yocoin\", \"Jumbucks\", \"Veros\", \"VPNCoin\", \"TrumpCoin\", \"Auroracoin\"]}], {\"yaxis\": {\"type\": \"log\", \"title\": \"24H Turnover Ratio\", \"dtick\": 0.5, \"ticksuffix\": \"%\"}, \"title\": \"Cryptocurrency Daily Turnover Rate (@ Exchanges)\", \"xaxis\": {\"title\": \"Market Cap\", \"type\": \"log\"}, \"hovermode\": \"closest\"}, {\"linkText\": \"Export to plot.ly\", \"showLink\": true})});</script>"
      ],
      "text/plain": [
       "<IPython.core.display.HTML object>"
      ]
     },
     "metadata": {},
     "output_type": "display_data"
    }
   ],
   "source": [
    "import numpy as np\n",
    "import pandas as pd\n",
    "import plotly.graph_objs as go\n",
    "from plotly.offline import init_notebook_mode, iplot\n",
    "init_notebook_mode(connected=True)\n",
    "filename = 'coinmktcap-ticker.json'\n",
    "url = 'https://api.coinmarketcap.com/v1/ticker/?limit=100'\n",
    "mkt_cap_threshold = pow(10, 6)  # Only want mkt cap >= $1M\n",
    "day_vol_threshold = 5000  # Only want trading vol >= $5K\n",
    "#df = pd.read_json('../data/{}'.format(filename))\n",
    "df = pd.read_json(url)\n",
    "df = df[df['market_cap_usd'].ge(mkt_cap_threshold) & df['24h_volume_usd'].ge(day_vol_threshold)]  \n",
    "layout = go.Layout(\n",
    "    title='Cryptocurrency Daily Turnover Rate (@ Exchanges)',\n",
    "    xaxis=dict(\n",
    "        title='Market Cap',\n",
    "        type='log',\n",
    "    ),\n",
    "    yaxis=dict(\n",
    "        title='24H Turnover Ratio',\n",
    "        type='log',\n",
    "        ticksuffix='%',\n",
    "        dtick=0.5,\n",
    "    ),\n",
    "    hovermode = 'closest',\n",
    ")\n",
    "data = [\n",
    "    go.Scatter(\n",
    "        mode='markers',\n",
    "        hoverinfo='text',\n",
    "        x=df['market_cap_usd'],\n",
    "        y=(df['24h_volume_usd'] / df['market_cap_usd']) * 100,\n",
    "        text=df['name'],\n",
    "        marker=dict(\n",
    "            size=np.log(df['24h_volume_usd'] / 10),  # Why / 10? To better show relative size.\n",
    "        ),\n",
    "    )]\n",
    "fig = go.Figure(data=data, layout=layout)\n",
    "iplot(fig)"
   ]
  }
 ],
 "metadata": {
  "kernelspec": {
   "display_name": "Python 3",
   "language": "python",
   "name": "python3"
  },
  "language_info": {
   "codemirror_mode": {
    "name": "ipython",
    "version": 3
   },
   "file_extension": ".py",
   "mimetype": "text/x-python",
   "name": "python",
   "nbconvert_exporter": "python",
   "pygments_lexer": "ipython3",
   "version": "3.5.2"
  }
 },
 "nbformat": 4,
 "nbformat_minor": 2
}
